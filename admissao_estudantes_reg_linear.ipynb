{
  "metadata": {
    "kernelspec": {
      "language": "python",
      "display_name": "Python 3",
      "name": "python3"
    },
    "language_info": {
      "pygments_lexer": "ipython3",
      "nbconvert_exporter": "python",
      "version": "3.6.4",
      "file_extension": ".py",
      "codemirror_mode": {
        "name": "ipython",
        "version": 3
      },
      "name": "python",
      "mimetype": "text/x-python"
    },
    "colab": {
      "provenance": [],
      "include_colab_link": true
    }
  },
  "nbformat_minor": 0,
  "nbformat": 4,
  "cells": [
    {
      "cell_type": "markdown",
      "metadata": {
        "id": "view-in-github",
        "colab_type": "text"
      },
      "source": [
        "<a href=\"https://colab.research.google.com/github/igors96/Reg_Linear_Admin_Students/blob/main/admissao_estudantes_reg_linear.ipynb\" target=\"_parent\"><img src=\"https://colab.research.google.com/assets/colab-badge.svg\" alt=\"Open In Colab\"/></a>"
      ]
    },
    {
      "cell_type": "code",
      "source": [
        "import pandas as pd\n",
        "estudantes = pd.read_csv('/content/Admission_Predict.csv')\n",
        "estudantes.head()\n"
      ],
      "metadata": {
        "execution": {
          "iopub.status.busy": "2022-10-20T19:00:49.846921Z",
          "iopub.execute_input": "2022-10-20T19:00:49.847470Z",
          "iopub.status.idle": "2022-10-20T19:00:50.044233Z",
          "shell.execute_reply.started": "2022-10-20T19:00:49.847344Z",
          "shell.execute_reply": "2022-10-20T19:00:50.043024Z"
        },
        "trusted": true,
        "colab": {
          "base_uri": "https://localhost:8080/",
          "height": 206
        },
        "id": "SF5qKQR23l2N",
        "outputId": "10b69f76-4250-4211-ab23-3db805a913a8"
      },
      "execution_count": 1,
      "outputs": [
        {
          "output_type": "execute_result",
          "data": {
            "text/plain": [
              "   Serial No.  GRE Score  TOEFL Score  University Rating  SOP  LOR   CGPA  \\\n",
              "0           1        337          118                  4  4.5   4.5  9.65   \n",
              "1           2        324          107                  4  4.0   4.5  8.87   \n",
              "2           3        316          104                  3  3.0   3.5  8.00   \n",
              "3           4        322          110                  3  3.5   2.5  8.67   \n",
              "4           5        314          103                  2  2.0   3.0  8.21   \n",
              "\n",
              "   Research  Chance of Admit   \n",
              "0         1              0.92  \n",
              "1         1              0.76  \n",
              "2         1              0.72  \n",
              "3         1              0.80  \n",
              "4         0              0.65  "
            ],
            "text/html": [
              "\n",
              "  <div id=\"df-16b84cc4-fe09-40ab-8227-9147edb7e13b\">\n",
              "    <div class=\"colab-df-container\">\n",
              "      <div>\n",
              "<style scoped>\n",
              "    .dataframe tbody tr th:only-of-type {\n",
              "        vertical-align: middle;\n",
              "    }\n",
              "\n",
              "    .dataframe tbody tr th {\n",
              "        vertical-align: top;\n",
              "    }\n",
              "\n",
              "    .dataframe thead th {\n",
              "        text-align: right;\n",
              "    }\n",
              "</style>\n",
              "<table border=\"1\" class=\"dataframe\">\n",
              "  <thead>\n",
              "    <tr style=\"text-align: right;\">\n",
              "      <th></th>\n",
              "      <th>Serial No.</th>\n",
              "      <th>GRE Score</th>\n",
              "      <th>TOEFL Score</th>\n",
              "      <th>University Rating</th>\n",
              "      <th>SOP</th>\n",
              "      <th>LOR</th>\n",
              "      <th>CGPA</th>\n",
              "      <th>Research</th>\n",
              "      <th>Chance of Admit</th>\n",
              "    </tr>\n",
              "  </thead>\n",
              "  <tbody>\n",
              "    <tr>\n",
              "      <th>0</th>\n",
              "      <td>1</td>\n",
              "      <td>337</td>\n",
              "      <td>118</td>\n",
              "      <td>4</td>\n",
              "      <td>4.5</td>\n",
              "      <td>4.5</td>\n",
              "      <td>9.65</td>\n",
              "      <td>1</td>\n",
              "      <td>0.92</td>\n",
              "    </tr>\n",
              "    <tr>\n",
              "      <th>1</th>\n",
              "      <td>2</td>\n",
              "      <td>324</td>\n",
              "      <td>107</td>\n",
              "      <td>4</td>\n",
              "      <td>4.0</td>\n",
              "      <td>4.5</td>\n",
              "      <td>8.87</td>\n",
              "      <td>1</td>\n",
              "      <td>0.76</td>\n",
              "    </tr>\n",
              "    <tr>\n",
              "      <th>2</th>\n",
              "      <td>3</td>\n",
              "      <td>316</td>\n",
              "      <td>104</td>\n",
              "      <td>3</td>\n",
              "      <td>3.0</td>\n",
              "      <td>3.5</td>\n",
              "      <td>8.00</td>\n",
              "      <td>1</td>\n",
              "      <td>0.72</td>\n",
              "    </tr>\n",
              "    <tr>\n",
              "      <th>3</th>\n",
              "      <td>4</td>\n",
              "      <td>322</td>\n",
              "      <td>110</td>\n",
              "      <td>3</td>\n",
              "      <td>3.5</td>\n",
              "      <td>2.5</td>\n",
              "      <td>8.67</td>\n",
              "      <td>1</td>\n",
              "      <td>0.80</td>\n",
              "    </tr>\n",
              "    <tr>\n",
              "      <th>4</th>\n",
              "      <td>5</td>\n",
              "      <td>314</td>\n",
              "      <td>103</td>\n",
              "      <td>2</td>\n",
              "      <td>2.0</td>\n",
              "      <td>3.0</td>\n",
              "      <td>8.21</td>\n",
              "      <td>0</td>\n",
              "      <td>0.65</td>\n",
              "    </tr>\n",
              "  </tbody>\n",
              "</table>\n",
              "</div>\n",
              "      <button class=\"colab-df-convert\" onclick=\"convertToInteractive('df-16b84cc4-fe09-40ab-8227-9147edb7e13b')\"\n",
              "              title=\"Convert this dataframe to an interactive table.\"\n",
              "              style=\"display:none;\">\n",
              "        \n",
              "  <svg xmlns=\"http://www.w3.org/2000/svg\" height=\"24px\"viewBox=\"0 0 24 24\"\n",
              "       width=\"24px\">\n",
              "    <path d=\"M0 0h24v24H0V0z\" fill=\"none\"/>\n",
              "    <path d=\"M18.56 5.44l.94 2.06.94-2.06 2.06-.94-2.06-.94-.94-2.06-.94 2.06-2.06.94zm-11 1L8.5 8.5l.94-2.06 2.06-.94-2.06-.94L8.5 2.5l-.94 2.06-2.06.94zm10 10l.94 2.06.94-2.06 2.06-.94-2.06-.94-.94-2.06-.94 2.06-2.06.94z\"/><path d=\"M17.41 7.96l-1.37-1.37c-.4-.4-.92-.59-1.43-.59-.52 0-1.04.2-1.43.59L10.3 9.45l-7.72 7.72c-.78.78-.78 2.05 0 2.83L4 21.41c.39.39.9.59 1.41.59.51 0 1.02-.2 1.41-.59l7.78-7.78 2.81-2.81c.8-.78.8-2.07 0-2.86zM5.41 20L4 18.59l7.72-7.72 1.47 1.35L5.41 20z\"/>\n",
              "  </svg>\n",
              "      </button>\n",
              "      \n",
              "  <style>\n",
              "    .colab-df-container {\n",
              "      display:flex;\n",
              "      flex-wrap:wrap;\n",
              "      gap: 12px;\n",
              "    }\n",
              "\n",
              "    .colab-df-convert {\n",
              "      background-color: #E8F0FE;\n",
              "      border: none;\n",
              "      border-radius: 50%;\n",
              "      cursor: pointer;\n",
              "      display: none;\n",
              "      fill: #1967D2;\n",
              "      height: 32px;\n",
              "      padding: 0 0 0 0;\n",
              "      width: 32px;\n",
              "    }\n",
              "\n",
              "    .colab-df-convert:hover {\n",
              "      background-color: #E2EBFA;\n",
              "      box-shadow: 0px 1px 2px rgba(60, 64, 67, 0.3), 0px 1px 3px 1px rgba(60, 64, 67, 0.15);\n",
              "      fill: #174EA6;\n",
              "    }\n",
              "\n",
              "    [theme=dark] .colab-df-convert {\n",
              "      background-color: #3B4455;\n",
              "      fill: #D2E3FC;\n",
              "    }\n",
              "\n",
              "    [theme=dark] .colab-df-convert:hover {\n",
              "      background-color: #434B5C;\n",
              "      box-shadow: 0px 1px 3px 1px rgba(0, 0, 0, 0.15);\n",
              "      filter: drop-shadow(0px 1px 2px rgba(0, 0, 0, 0.3));\n",
              "      fill: #FFFFFF;\n",
              "    }\n",
              "  </style>\n",
              "\n",
              "      <script>\n",
              "        const buttonEl =\n",
              "          document.querySelector('#df-16b84cc4-fe09-40ab-8227-9147edb7e13b button.colab-df-convert');\n",
              "        buttonEl.style.display =\n",
              "          google.colab.kernel.accessAllowed ? 'block' : 'none';\n",
              "\n",
              "        async function convertToInteractive(key) {\n",
              "          const element = document.querySelector('#df-16b84cc4-fe09-40ab-8227-9147edb7e13b');\n",
              "          const dataTable =\n",
              "            await google.colab.kernel.invokeFunction('convertToInteractive',\n",
              "                                                     [key], {});\n",
              "          if (!dataTable) return;\n",
              "\n",
              "          const docLinkHtml = 'Like what you see? Visit the ' +\n",
              "            '<a target=\"_blank\" href=https://colab.research.google.com/notebooks/data_table.ipynb>data table notebook</a>'\n",
              "            + ' to learn more about interactive tables.';\n",
              "          element.innerHTML = '';\n",
              "          dataTable['output_type'] = 'display_data';\n",
              "          await google.colab.output.renderOutput(dataTable, element);\n",
              "          const docLink = document.createElement('div');\n",
              "          docLink.innerHTML = docLinkHtml;\n",
              "          element.appendChild(docLink);\n",
              "        }\n",
              "      </script>\n",
              "    </div>\n",
              "  </div>\n",
              "  "
            ]
          },
          "metadata": {},
          "execution_count": 1
        }
      ]
    },
    {
      "cell_type": "code",
      "source": [
        "atualizado = estudantes.drop([\"Serial No.\"], axis=1)\n",
        "atualizado.head()"
      ],
      "metadata": {
        "execution": {
          "iopub.status.busy": "2022-10-20T19:00:50.045938Z",
          "iopub.execute_input": "2022-10-20T19:00:50.046272Z",
          "iopub.status.idle": "2022-10-20T19:00:50.064048Z",
          "shell.execute_reply.started": "2022-10-20T19:00:50.046234Z",
          "shell.execute_reply": "2022-10-20T19:00:50.063171Z"
        },
        "trusted": true,
        "colab": {
          "base_uri": "https://localhost:8080/",
          "height": 206
        },
        "id": "QzXAWMUi3l2W",
        "outputId": "25836a42-a0c4-452e-c2bd-3ae278f90ee9"
      },
      "execution_count": 2,
      "outputs": [
        {
          "output_type": "execute_result",
          "data": {
            "text/plain": [
              "   GRE Score  TOEFL Score  University Rating  SOP  LOR   CGPA  Research  \\\n",
              "0        337          118                  4  4.5   4.5  9.65         1   \n",
              "1        324          107                  4  4.0   4.5  8.87         1   \n",
              "2        316          104                  3  3.0   3.5  8.00         1   \n",
              "3        322          110                  3  3.5   2.5  8.67         1   \n",
              "4        314          103                  2  2.0   3.0  8.21         0   \n",
              "\n",
              "   Chance of Admit   \n",
              "0              0.92  \n",
              "1              0.76  \n",
              "2              0.72  \n",
              "3              0.80  \n",
              "4              0.65  "
            ],
            "text/html": [
              "\n",
              "  <div id=\"df-9a6ee7f6-8961-4f9e-8195-09f9094da705\">\n",
              "    <div class=\"colab-df-container\">\n",
              "      <div>\n",
              "<style scoped>\n",
              "    .dataframe tbody tr th:only-of-type {\n",
              "        vertical-align: middle;\n",
              "    }\n",
              "\n",
              "    .dataframe tbody tr th {\n",
              "        vertical-align: top;\n",
              "    }\n",
              "\n",
              "    .dataframe thead th {\n",
              "        text-align: right;\n",
              "    }\n",
              "</style>\n",
              "<table border=\"1\" class=\"dataframe\">\n",
              "  <thead>\n",
              "    <tr style=\"text-align: right;\">\n",
              "      <th></th>\n",
              "      <th>GRE Score</th>\n",
              "      <th>TOEFL Score</th>\n",
              "      <th>University Rating</th>\n",
              "      <th>SOP</th>\n",
              "      <th>LOR</th>\n",
              "      <th>CGPA</th>\n",
              "      <th>Research</th>\n",
              "      <th>Chance of Admit</th>\n",
              "    </tr>\n",
              "  </thead>\n",
              "  <tbody>\n",
              "    <tr>\n",
              "      <th>0</th>\n",
              "      <td>337</td>\n",
              "      <td>118</td>\n",
              "      <td>4</td>\n",
              "      <td>4.5</td>\n",
              "      <td>4.5</td>\n",
              "      <td>9.65</td>\n",
              "      <td>1</td>\n",
              "      <td>0.92</td>\n",
              "    </tr>\n",
              "    <tr>\n",
              "      <th>1</th>\n",
              "      <td>324</td>\n",
              "      <td>107</td>\n",
              "      <td>4</td>\n",
              "      <td>4.0</td>\n",
              "      <td>4.5</td>\n",
              "      <td>8.87</td>\n",
              "      <td>1</td>\n",
              "      <td>0.76</td>\n",
              "    </tr>\n",
              "    <tr>\n",
              "      <th>2</th>\n",
              "      <td>316</td>\n",
              "      <td>104</td>\n",
              "      <td>3</td>\n",
              "      <td>3.0</td>\n",
              "      <td>3.5</td>\n",
              "      <td>8.00</td>\n",
              "      <td>1</td>\n",
              "      <td>0.72</td>\n",
              "    </tr>\n",
              "    <tr>\n",
              "      <th>3</th>\n",
              "      <td>322</td>\n",
              "      <td>110</td>\n",
              "      <td>3</td>\n",
              "      <td>3.5</td>\n",
              "      <td>2.5</td>\n",
              "      <td>8.67</td>\n",
              "      <td>1</td>\n",
              "      <td>0.80</td>\n",
              "    </tr>\n",
              "    <tr>\n",
              "      <th>4</th>\n",
              "      <td>314</td>\n",
              "      <td>103</td>\n",
              "      <td>2</td>\n",
              "      <td>2.0</td>\n",
              "      <td>3.0</td>\n",
              "      <td>8.21</td>\n",
              "      <td>0</td>\n",
              "      <td>0.65</td>\n",
              "    </tr>\n",
              "  </tbody>\n",
              "</table>\n",
              "</div>\n",
              "      <button class=\"colab-df-convert\" onclick=\"convertToInteractive('df-9a6ee7f6-8961-4f9e-8195-09f9094da705')\"\n",
              "              title=\"Convert this dataframe to an interactive table.\"\n",
              "              style=\"display:none;\">\n",
              "        \n",
              "  <svg xmlns=\"http://www.w3.org/2000/svg\" height=\"24px\"viewBox=\"0 0 24 24\"\n",
              "       width=\"24px\">\n",
              "    <path d=\"M0 0h24v24H0V0z\" fill=\"none\"/>\n",
              "    <path d=\"M18.56 5.44l.94 2.06.94-2.06 2.06-.94-2.06-.94-.94-2.06-.94 2.06-2.06.94zm-11 1L8.5 8.5l.94-2.06 2.06-.94-2.06-.94L8.5 2.5l-.94 2.06-2.06.94zm10 10l.94 2.06.94-2.06 2.06-.94-2.06-.94-.94-2.06-.94 2.06-2.06.94z\"/><path d=\"M17.41 7.96l-1.37-1.37c-.4-.4-.92-.59-1.43-.59-.52 0-1.04.2-1.43.59L10.3 9.45l-7.72 7.72c-.78.78-.78 2.05 0 2.83L4 21.41c.39.39.9.59 1.41.59.51 0 1.02-.2 1.41-.59l7.78-7.78 2.81-2.81c.8-.78.8-2.07 0-2.86zM5.41 20L4 18.59l7.72-7.72 1.47 1.35L5.41 20z\"/>\n",
              "  </svg>\n",
              "      </button>\n",
              "      \n",
              "  <style>\n",
              "    .colab-df-container {\n",
              "      display:flex;\n",
              "      flex-wrap:wrap;\n",
              "      gap: 12px;\n",
              "    }\n",
              "\n",
              "    .colab-df-convert {\n",
              "      background-color: #E8F0FE;\n",
              "      border: none;\n",
              "      border-radius: 50%;\n",
              "      cursor: pointer;\n",
              "      display: none;\n",
              "      fill: #1967D2;\n",
              "      height: 32px;\n",
              "      padding: 0 0 0 0;\n",
              "      width: 32px;\n",
              "    }\n",
              "\n",
              "    .colab-df-convert:hover {\n",
              "      background-color: #E2EBFA;\n",
              "      box-shadow: 0px 1px 2px rgba(60, 64, 67, 0.3), 0px 1px 3px 1px rgba(60, 64, 67, 0.15);\n",
              "      fill: #174EA6;\n",
              "    }\n",
              "\n",
              "    [theme=dark] .colab-df-convert {\n",
              "      background-color: #3B4455;\n",
              "      fill: #D2E3FC;\n",
              "    }\n",
              "\n",
              "    [theme=dark] .colab-df-convert:hover {\n",
              "      background-color: #434B5C;\n",
              "      box-shadow: 0px 1px 3px 1px rgba(0, 0, 0, 0.15);\n",
              "      filter: drop-shadow(0px 1px 2px rgba(0, 0, 0, 0.3));\n",
              "      fill: #FFFFFF;\n",
              "    }\n",
              "  </style>\n",
              "\n",
              "      <script>\n",
              "        const buttonEl =\n",
              "          document.querySelector('#df-9a6ee7f6-8961-4f9e-8195-09f9094da705 button.colab-df-convert');\n",
              "        buttonEl.style.display =\n",
              "          google.colab.kernel.accessAllowed ? 'block' : 'none';\n",
              "\n",
              "        async function convertToInteractive(key) {\n",
              "          const element = document.querySelector('#df-9a6ee7f6-8961-4f9e-8195-09f9094da705');\n",
              "          const dataTable =\n",
              "            await google.colab.kernel.invokeFunction('convertToInteractive',\n",
              "                                                     [key], {});\n",
              "          if (!dataTable) return;\n",
              "\n",
              "          const docLinkHtml = 'Like what you see? Visit the ' +\n",
              "            '<a target=\"_blank\" href=https://colab.research.google.com/notebooks/data_table.ipynb>data table notebook</a>'\n",
              "            + ' to learn more about interactive tables.';\n",
              "          element.innerHTML = '';\n",
              "          dataTable['output_type'] = 'display_data';\n",
              "          await google.colab.output.renderOutput(dataTable, element);\n",
              "          const docLink = document.createElement('div');\n",
              "          docLink.innerHTML = docLinkHtml;\n",
              "          element.appendChild(docLink);\n",
              "        }\n",
              "      </script>\n",
              "    </div>\n",
              "  </div>\n",
              "  "
            ]
          },
          "metadata": {},
          "execution_count": 2
        }
      ]
    },
    {
      "cell_type": "code",
      "source": [
        "x = atualizado.drop('Chance of Admit ', axis = 1)\n",
        "y = atualizado['Chance of Admit ']"
      ],
      "metadata": {
        "execution": {
          "iopub.status.busy": "2022-10-20T19:00:50.065978Z",
          "iopub.execute_input": "2022-10-20T19:00:50.066524Z",
          "iopub.status.idle": "2022-10-20T19:00:50.077460Z",
          "shell.execute_reply.started": "2022-10-20T19:00:50.066458Z",
          "shell.execute_reply": "2022-10-20T19:00:50.076484Z"
        },
        "trusted": true,
        "id": "uVY3yH3o3l2X"
      },
      "execution_count": 3,
      "outputs": []
    },
    {
      "cell_type": "code",
      "source": [
        "from sklearn.model_selection import train_test_split\n",
        "x_treino, x_teste, y_treino, y_teste = train_test_split(x, y, test_size = 0.3, random_state = 45)"
      ],
      "metadata": {
        "execution": {
          "iopub.status.busy": "2022-10-20T19:00:50.079394Z",
          "iopub.execute_input": "2022-10-20T19:00:50.079936Z",
          "iopub.status.idle": "2022-10-20T19:00:51.047655Z",
          "shell.execute_reply.started": "2022-10-20T19:00:50.079878Z",
          "shell.execute_reply": "2022-10-20T19:00:51.046473Z"
        },
        "trusted": true,
        "id": "3T-7z1Oi3l2Y"
      },
      "execution_count": 4,
      "outputs": []
    },
    {
      "cell_type": "code",
      "source": [
        "def modelosRegressao(a,b,c,d):\n",
        "    from sklearn.linear_model import LinearRegression\n",
        "    from sklearn.linear_model import Ridge\n",
        "    from sklearn.linear_model import Lasso\n",
        "    from sklearn.linear_model import ElasticNet\n",
        "    x_treino = a\n",
        "    y_treino = b\n",
        "    x_teste = c\n",
        "    y_teste = d\n",
        "    reg = LinearRegression()\n",
        "    ridge = Ridge()\n",
        "    lasso = Lasso()\n",
        "    elastic = ElasticNet()\n",
        "    reg.fit(x_treino, y_treino)\n",
        "    ridge.fit(x_treino, y_treino)\n",
        "    lasso.fit(x_treino, y_treino)\n",
        "    elastic.fit(x_treino, y_treino)\n",
        "    resul_reg = reg.score(x_teste, y_teste)\n",
        "    resul_ridge = ridge.score(x_teste, y_teste)\n",
        "    resul_lasso = lasso.score(x_teste, y_teste)\n",
        "    resul_elastic = elastic.score(x_teste, y_teste)\n",
        "    dic_regmodels = {'Linear': resul_reg, 'Ridge': resul_ridge, 'Lasso': resul_lasso,'Elastic': resul_elastic}\n",
        "    melhor_modelo = max(dic_regmodels, key = dic_regmodels.get)\n",
        "    print('Regressão Linear:', resul_reg, '\\n''Regressão Ridge:', resul_ridge,'\\n''Regressão Lasso:', resul_lasso,'\\n''Regressão ElasticNet:', resul_elastic)\n",
        "    print('O melhor modelo foi:', melhor_modelo, 'com o valor:', dic_regmodels[melhor_modelo])"
      ],
      "metadata": {
        "execution": {
          "iopub.status.busy": "2022-10-20T19:00:51.049526Z",
          "iopub.execute_input": "2022-10-20T19:00:51.050101Z",
          "iopub.status.idle": "2022-10-20T19:00:51.060416Z",
          "shell.execute_reply.started": "2022-10-20T19:00:51.050041Z",
          "shell.execute_reply": "2022-10-20T19:00:51.059247Z"
        },
        "trusted": true,
        "id": "58ts16De3l2Z"
      },
      "execution_count": 5,
      "outputs": []
    },
    {
      "cell_type": "code",
      "source": [
        "modelosRegressao(x_treino,y_treino,x_teste,y_teste)"
      ],
      "metadata": {
        "execution": {
          "iopub.status.busy": "2022-10-20T19:00:51.061875Z",
          "iopub.execute_input": "2022-10-20T19:00:51.062214Z",
          "iopub.status.idle": "2022-10-20T19:00:51.392453Z",
          "shell.execute_reply.started": "2022-10-20T19:00:51.062178Z",
          "shell.execute_reply": "2022-10-20T19:00:51.391537Z"
        },
        "trusted": true,
        "colab": {
          "base_uri": "https://localhost:8080/"
        },
        "id": "OL1T6OOG3l2a",
        "outputId": "4d9928f3-5cee-47ac-e737-a5f90e439066"
      },
      "execution_count": 6,
      "outputs": [
        {
          "output_type": "stream",
          "name": "stdout",
          "text": [
            "Regressão Linear: 0.8093428763333981 \n",
            "Regressão Ridge: 0.8085345281885281 \n",
            "Regressão Lasso: 0.2855728845758697 \n",
            "Regressão ElasticNet: 0.5647447563640624\n",
            "O melhor modelo foi: Linear com o valor: 0.8093428763333981\n"
          ]
        }
      ]
    },
    {
      "cell_type": "code",
      "source": [
        "#Kfold - validação cruzada\n",
        "from sklearn.linear_model import LinearRegression\n",
        "from sklearn.model_selection import KFold\n",
        "from sklearn.model_selection import cross_val_score\n",
        "modelo = LinearRegression()\n",
        "kfold = KFold(n_splits = 5)\n",
        "resultado = cross_val_score(modelo, x, y, cv = kfold)\n",
        "print(resultado.mean())"
      ],
      "metadata": {
        "execution": {
          "iopub.status.busy": "2022-10-20T19:00:51.394370Z",
          "iopub.execute_input": "2022-10-20T19:00:51.395203Z",
          "iopub.status.idle": "2022-10-20T19:00:51.451276Z",
          "shell.execute_reply.started": "2022-10-20T19:00:51.395140Z",
          "shell.execute_reply": "2022-10-20T19:00:51.449994Z"
        },
        "trusted": true,
        "colab": {
          "base_uri": "https://localhost:8080/"
        },
        "id": "Xtt_LJoE3l2b",
        "outputId": "85349c19-9bfe-46fa-b464-f052c975244b"
      },
      "execution_count": 7,
      "outputs": [
        {
          "output_type": "stream",
          "name": "stdout",
          "text": [
            "0.771179412106636\n"
          ]
        }
      ]
    },
    {
      "cell_type": "code",
      "source": [
        "def modelosRegressaoKFold(a,b):\n",
        "    from sklearn.linear_model import LinearRegression\n",
        "    from sklearn.linear_model import Ridge\n",
        "    from sklearn.linear_model import Lasso\n",
        "    from sklearn.linear_model import ElasticNet\n",
        "    from sklearn.model_selection import KFold\n",
        "    from sklearn.model_selection import cross_val_score\n",
        "    x = a\n",
        "    y = b\n",
        "    kfold = KFold(n_splits = 10)\n",
        "    reg = LinearRegression()\n",
        "    ridge = Ridge()\n",
        "    lasso = Lasso()\n",
        "    elastic = ElasticNet()\n",
        "    resul_reg = cross_val_score(reg, x, y, cv = kfold)\n",
        "    resul_ridge = cross_val_score(ridge, x, y, cv = kfold)\n",
        "    resul_lasso = cross_val_score(lasso, x, y, cv = kfold)\n",
        "    resul_elastic = cross_val_score(elastic, x, y, cv = kfold)\n",
        "    dic_regmodels = {'Linear': resul_reg.mean(), 'Ridge': resul_ridge.mean(), 'Lasso': resul_lasso.mean(),'Elastic': resul_elastic.mean()}\n",
        "    melhor_modelo = max(dic_regmodels, key = dic_regmodels.get)\n",
        "    print('Regressão Linear:', resul_reg.mean(), '\\n''Regressão Ridge:', resul_ridge.mean(),'\\n''Regressão Lasso:', resul_lasso.mean(),'\\n''Regressão ElasticNet:', resul_elastic.mean())\n",
        "    print('O melhor modelo foi:', melhor_modelo, 'com o valor:', dic_regmodels[melhor_modelo])"
      ],
      "metadata": {
        "execution": {
          "iopub.status.busy": "2022-10-20T19:00:51.454230Z",
          "iopub.execute_input": "2022-10-20T19:00:51.454930Z",
          "iopub.status.idle": "2022-10-20T19:00:51.465628Z",
          "shell.execute_reply.started": "2022-10-20T19:00:51.454874Z",
          "shell.execute_reply": "2022-10-20T19:00:51.464351Z"
        },
        "trusted": true,
        "id": "fB-cTV3P3l2c"
      },
      "execution_count": 8,
      "outputs": []
    },
    {
      "cell_type": "code",
      "source": [
        "modelosRegressaoKFold(x,y)"
      ],
      "metadata": {
        "execution": {
          "iopub.status.busy": "2022-10-20T19:00:51.467238Z",
          "iopub.execute_input": "2022-10-20T19:00:51.467561Z",
          "iopub.status.idle": "2022-10-20T19:00:51.717612Z",
          "shell.execute_reply.started": "2022-10-20T19:00:51.467527Z",
          "shell.execute_reply": "2022-10-20T19:00:51.716264Z"
        },
        "trusted": true,
        "colab": {
          "base_uri": "https://localhost:8080/"
        },
        "id": "JJWU5Qbg3l2e",
        "outputId": "edfc6a40-f834-4522-8b72-1b56eaa5d1aa"
      },
      "execution_count": 9,
      "outputs": [
        {
          "output_type": "stream",
          "name": "stdout",
          "text": [
            "Regressão Linear: 0.7703825020879943 \n",
            "Regressão Ridge: 0.7705725482928705 \n",
            "Regressão Lasso: 0.1827727619979103 \n",
            "Regressão ElasticNet: 0.4962376743697495\n",
            "O melhor modelo foi: Ridge com o valor: 0.7705725482928705\n"
          ]
        }
      ]
    },
    {
      "cell_type": "code",
      "source": [
        "#Ajuste de parâmetros - RandomizedSearchCV\n",
        "from sklearn.model_selection import RandomizedSearchCV\n",
        "from sklearn.linear_model import ElasticNet"
      ],
      "metadata": {
        "execution": {
          "iopub.status.busy": "2022-10-20T19:00:51.719562Z",
          "iopub.execute_input": "2022-10-20T19:00:51.720018Z",
          "iopub.status.idle": "2022-10-20T19:00:51.724956Z",
          "shell.execute_reply.started": "2022-10-20T19:00:51.719962Z",
          "shell.execute_reply": "2022-10-20T19:00:51.723907Z"
        },
        "trusted": true,
        "id": "uc4yTh3d3l2f"
      },
      "execution_count": 10,
      "outputs": []
    },
    {
      "cell_type": "code",
      "source": [
        "#Definindo os valores que serão testados:\n",
        "valores = {'alpha': [0.1,0.5,1,2,5,10,25,50,100,150,200,300,500,750,1000,1500,2000,3000,5000], 'l1_ratio':[0.02,0.05,0.1,0.2,0.3,0.4,0.5,0.6,0.7,0.8,0.9]}"
      ],
      "metadata": {
        "execution": {
          "iopub.status.busy": "2022-10-20T19:00:51.726225Z",
          "iopub.execute_input": "2022-10-20T19:00:51.726549Z",
          "iopub.status.idle": "2022-10-20T19:00:51.739863Z",
          "shell.execute_reply.started": "2022-10-20T19:00:51.726516Z",
          "shell.execute_reply": "2022-10-20T19:00:51.738541Z"
        },
        "trusted": true,
        "id": "D2A6rUrS3l2g"
      },
      "execution_count": 11,
      "outputs": []
    },
    {
      "cell_type": "code",
      "source": [
        "#Criando o modelo\n",
        "modelo_teste = ElasticNet()\n",
        "procura = RandomizedSearchCV(estimator = modelo_teste, param_distributions = valores, n_iter = 150, cv = 5, random_state = 15)\n",
        "procura.fit(x,y)\n",
        "\n",
        "#Imprimindo o resultado\n",
        "print(\"Melhor score:\", procura.best_score_)\n",
        "print(\"Melhor alpha:\", procura.best_estimator_.alpha)\n",
        "print(\"Melhor l1_ratio:\", procura.best_estimator_.l1_ratio)"
      ],
      "metadata": {
        "execution": {
          "iopub.status.busy": "2022-10-20T19:00:51.741662Z",
          "iopub.execute_input": "2022-10-20T19:00:51.742146Z",
          "iopub.status.idle": "2022-10-20T19:00:56.236791Z",
          "shell.execute_reply.started": "2022-10-20T19:00:51.742073Z",
          "shell.execute_reply": "2022-10-20T19:00:56.235714Z"
        },
        "trusted": true,
        "colab": {
          "base_uri": "https://localhost:8080/"
        },
        "id": "7trGJ-1K3l2h",
        "outputId": "732808c6-497b-4a17-9141-8833847e8e1f"
      },
      "execution_count": 12,
      "outputs": [
        {
          "output_type": "stream",
          "name": "stdout",
          "text": [
            "Melhor score: 0.7408292165331437\n",
            "Melhor alpha: 0.1\n",
            "Melhor l1_ratio: 0.02\n"
          ]
        }
      ]
    },
    {
      "cell_type": "code",
      "source": [
        "#Ajuste de parâmetros - GridSearchCV\n",
        "from sklearn.model_selection import GridSearchCV\n",
        "from sklearn.linear_model import ElasticNet"
      ],
      "metadata": {
        "execution": {
          "iopub.status.busy": "2022-10-20T19:00:56.238396Z",
          "iopub.execute_input": "2022-10-20T19:00:56.238817Z",
          "iopub.status.idle": "2022-10-20T19:00:56.243958Z",
          "shell.execute_reply.started": "2022-10-20T19:00:56.238769Z",
          "shell.execute_reply": "2022-10-20T19:00:56.242889Z"
        },
        "trusted": true,
        "id": "1qGXYttB3l2h"
      },
      "execution_count": 13,
      "outputs": []
    },
    {
      "cell_type": "code",
      "source": [
        "#Definindo os valores que serão testados:\n",
        "valores_1 = {'alpha': [0.1,0.5,1,2,5,10,25,50,100], 'l1_ratio':[0.02,0.05,0.1,0.2,0.3,0.4,0.5,0.8]}"
      ],
      "metadata": {
        "execution": {
          "iopub.status.busy": "2022-10-20T19:00:56.245589Z",
          "iopub.execute_input": "2022-10-20T19:00:56.246275Z",
          "iopub.status.idle": "2022-10-20T19:00:56.260652Z",
          "shell.execute_reply.started": "2022-10-20T19:00:56.246224Z",
          "shell.execute_reply": "2022-10-20T19:00:56.258816Z"
        },
        "trusted": true,
        "id": "4jhlV0OX3l2i"
      },
      "execution_count": 14,
      "outputs": []
    },
    {
      "cell_type": "code",
      "source": [
        "#Criando o modelo\n",
        "modelo_teste_1 = ElasticNet()\n",
        "procura_1 = GridSearchCV(estimator = modelo_teste_1, param_grid = valores_1, cv = 5, n_jobs = -1)\n",
        "procura_1.fit(x,y)\n",
        "\n",
        "#Imprimindo o resultado\n",
        "print(\"Melhor score:\", procura_1.best_score_)\n",
        "print(\"Melhor alpha:\", procura_1.best_estimator_.alpha)\n",
        "print(\"Melhor l1_ratio:\", procura_1.best_estimator_.l1_ratio)"
      ],
      "metadata": {
        "execution": {
          "iopub.status.busy": "2022-10-20T19:00:56.262756Z",
          "iopub.execute_input": "2022-10-20T19:00:56.263174Z",
          "iopub.status.idle": "2022-10-20T19:00:59.919158Z",
          "shell.execute_reply.started": "2022-10-20T19:00:56.263095Z",
          "shell.execute_reply": "2022-10-20T19:00:59.918151Z"
        },
        "trusted": true,
        "colab": {
          "base_uri": "https://localhost:8080/"
        },
        "id": "zHUR_AUZ3l2i",
        "outputId": "5167bbf7-af32-44f7-c2f6-b3c3a3f3bcfb"
      },
      "execution_count": 15,
      "outputs": [
        {
          "output_type": "stream",
          "name": "stdout",
          "text": [
            "Melhor score: 0.7408292165331437\n",
            "Melhor alpha: 0.1\n",
            "Melhor l1_ratio: 0.02\n"
          ]
        }
      ]
    }
  ]
}